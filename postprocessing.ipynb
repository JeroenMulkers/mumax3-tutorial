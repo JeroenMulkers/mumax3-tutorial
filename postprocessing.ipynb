{
 "cells": [
  {
   "cell_type": "markdown",
   "metadata": {
    "colab_type": "text",
    "id": "view-in-github"
   },
   "source": [
    "<a href=\"https://colab.research.google.com/github/JeroenMulkers/mumax3-tutorial/blob/master/postprocessing.ipynb\" target=\"_parent\"><img src=\"https://colab.research.google.com/assets/colab-badge.svg\" alt=\"Open In Colab\"/></a>"
   ]
  },
  {
   "cell_type": "markdown",
   "metadata": {},
   "source": [
    "# Post processing of mumax3 output data in python"
   ]
  },
  {
   "cell_type": "markdown",
   "metadata": {},
   "source": [
    "intr intro"
   ]
  },
  {
   "cell_type": "markdown",
   "metadata": {},
   "source": [
    "## Getting ready"
   ]
  },
  {
   "cell_type": "markdown",
   "metadata": {},
   "source": [
    "If you want to run the examples in this notebook, then mumax3 must be is installed on the system that is running this notebook. Go to [mumax.github.io/download](http://mumax.github.io/download) for more information on how to install mumax3 on your system. If you are running this notebook in a google collaboratory session, it suffices to run the cell below to install mumax3 and update the PATH environment variable. "
   ]
  },
  {
   "cell_type": "code",
   "execution_count": null,
   "metadata": {},
   "outputs": [],
   "source": [
    "try:\n",
    "    import google.colab\n",
    "except ImportError:\n",
    "    pass\n",
    "else:\n",
    "    !wget https://mumax.ugent.be/mumax3-binaries/mumax3.10_linux_cuda10.1.tar.gz\n",
    "    !tar -xvf mumax3.10_linux_cuda10.1.tar.gz\n",
    "    !rm mumax3.10_linux_cuda10.1.tar.gz\n",
    "    !rm -rf mumax3.10 && mv mumax3.10_linux_cuda10.1 mumax3.10\n",
    "    import os\n",
    "    os.environ['PATH'] += \":/content/mumax3.10\""
   ]
  },
  {
   "cell_type": "markdown",
   "metadata": {},
   "source": [
    "In the examples presented in this notebook, we will use the numpy and pandas libraries for post processing mumax3 output data, and matplotlib to visualize this data. So let's import these libraries."
   ]
  },
  {
   "cell_type": "code",
   "execution_count": null,
   "metadata": {},
   "outputs": [],
   "source": [
    "import numpy as np\n",
    "import matplotlib.pyplot as plt\n",
    "import pandas as pd"
   ]
  },
  {
   "cell_type": "markdown",
   "metadata": {},
   "source": [
    "## mumax3 helper functions"
   ]
  },
  {
   "cell_type": "markdown",
   "metadata": {},
   "source": [
    "Let's start by writing a function which reads a mumax3 output table and puts it in a Pandas dataframe."
   ]
  },
  {
   "cell_type": "code",
   "execution_count": null,
   "metadata": {},
   "outputs": [],
   "source": [
    "def read_mumax3_table(filename):\n",
    "    \"\"\"Puts the mumax3 output table in a pandas dataframe\"\"\"\n",
    "\n",
    "    from pandas import read_table\n",
    "    \n",
    "    table = read_table(filename)\n",
    "    table.columns = ' '.join(table.columns).split()[1::2]\n",
    "    \n",
    "    return table"
   ]
  },
  {
   "cell_type": "markdown",
   "metadata": {},
   "source": [
    "Mumax3 does not only write output data in a table, it can also write data to ovf fields. The function below converts all ovf files in the output directory to numpy files. These files are then loaded using the numpy.load function. "
   ]
  },
  {
   "cell_type": "code",
   "execution_count": null,
   "metadata": {},
   "outputs": [],
   "source": [
    "def read_mumax3_ovffiles(outputdir):\n",
    "    \"\"\"Load all ovffiles in outputdir into a dictionary of numpy arrays \n",
    "    with the ovffilename (without extension) as key\"\"\"\n",
    "    \n",
    "    from subprocess import run, PIPE, STDOUT\n",
    "    from glob import glob\n",
    "    from os import path\n",
    "    from numpy import load\n",
    "\n",
    "    # convert all ovf files in the output directory to numpy files\n",
    "    p = run([\"mumax3-convert\",\"-numpy\",outputdir+\"/*.ovf\"], stdout=PIPE, stderr=STDOUT)\n",
    "    if p.returncode != 0:\n",
    "        print(p.stdout.decode('UTF-8'))\n",
    "\n",
    "    # read the numpy files (the converted ovf files)\n",
    "    fields = {}\n",
    "    for npyfile in glob(outputdir+\"/*.npy\"):\n",
    "        key = path.splitext(path.basename(npyfile))[0]\n",
    "        fields[key] = load(npyfile)\n",
    "    \n",
    "    return fields"
   ]
  },
  {
   "cell_type": "markdown",
   "metadata": {},
   "source": [
    "The function below executes a mumax3 script and returns the data of the output table in a pandas dataframe, and the saved fields as numpy arrays."
   ]
  },
  {
   "cell_type": "code",
   "execution_count": null,
   "metadata": {},
   "outputs": [],
   "source": [
    "def run_mumax3(script, name, verbose=False):\n",
    "    \"\"\" Executes a mumax3 script and convert ovf files to numpy files\n",
    "    \n",
    "    Parameters\n",
    "    ----------\n",
    "      script:  string containing the mumax3 input script\n",
    "      name:    name of the simulation (used to name the script and output dir)\n",
    "      verbose: print stdout of mumax3 when it is finished\n",
    "    \"\"\"\n",
    "    \n",
    "    from subprocess import run, PIPE, STDOUT\n",
    "    from os import path\n",
    "\n",
    "    scriptfile = name + \".txt\" \n",
    "    outputdir  = name + \".out\"\n",
    "\n",
    "    # write the input script in scriptfile\n",
    "    with open(scriptfile, 'w' ) as f:\n",
    "        f.write(script)\n",
    "    \n",
    "    # call mumax3 to execute this script\n",
    "    p = run([\"mumax3\",\"-f\",scriptfile], stdout=PIPE, stderr=STDOUT)\n",
    "    if verbose or p.returncode != 0:\n",
    "        print(p.stdout.decode('UTF-8'))\n",
    "        \n",
    "    if path.exists(outputdir + \"/table.txt\"):\n",
    "        table = read_mumax3_table(outputdir + \"/table.txt\")\n",
    "    else:\n",
    "        table = None\n",
    "        \n",
    "    fields = read_mumax3_ovffiles(outputdir)\n",
    "    \n",
    "    return table, fields"
   ]
  },
  {
   "cell_type": "markdown",
   "metadata": {},
   "source": [
    "## Standard problem 4 revisited"
   ]
  },
  {
   "cell_type": "markdown",
   "metadata": {},
   "source": [
    "Let's start by putting the mumax3 input script for standard problem 4 in the string variable `script`."
   ]
  },
  {
   "cell_type": "code",
   "execution_count": null,
   "metadata": {},
   "outputs": [],
   "source": [
    "script=\"\"\"\n",
    "SetGridsize(128, 32, 1)\n",
    "SetCellsize(500e-9/128, 125e-9/32, 3e-9)\n",
    "\n",
    "Msat  = 800e3\n",
    "Aex   = 13e-12\n",
    "alpha = 0.02\n",
    "\n",
    "m = uniform(1, .1, 0)\n",
    "relax()\n",
    "\n",
    "autosave(m, 200e-12)\n",
    "tableadd(e_total)\n",
    "tableautosave(10e-12)\n",
    "\n",
    "B_ext = vector(-24.6E-3, 4.3E-3, 0)\n",
    "run(1e-9)\n",
    "\"\"\""
   ]
  },
  {
   "cell_type": "markdown",
   "metadata": {},
   "source": [
    "Now we can execute this mumax3 script using the `run_mumax3` helper function. This function returns the output table in a pandas dataframe and a dictionary of the saved fields. If `verbose=True`, then the log output of mumax3 will be printed out when mumax3 finishes. Note that on the left side of the cell, you can check if the simulation is finished or still running."
   ]
  },
  {
   "cell_type": "code",
   "execution_count": null,
   "metadata": {},
   "outputs": [],
   "source": [
    "table, fields = run_mumax3( script, name=\"standardproblem4\", verbose=False )"
   ]
  },
  {
   "cell_type": "markdown",
   "metadata": {},
   "source": [
    "The table data is put in a pandas dataframe. This makes it very easy to plot and analyze the table data."
   ]
  },
  {
   "cell_type": "code",
   "execution_count": null,
   "metadata": {},
   "outputs": [],
   "source": [
    "print(table)\n",
    "\n",
    "plt.figure()\n",
    "\n",
    "nanosecond = 1e-9\n",
    "plt.plot( table[\"t\"]/nanosecond, table[\"mx\"])\n",
    "plt.plot( table[\"t\"]/nanosecond, table[\"my\"])\n",
    "plt.plot( table[\"t\"]/nanosecond, table[\"mz\"])\n",
    "\n",
    "plt.xlabel(\"Time (ns)\")\n",
    "plt.ylabel(\"Magnetization\")\n",
    "\n",
    "plt.show()"
   ]
  },
  {
   "cell_type": "markdown",
   "metadata": {},
   "source": []
  },
  {
   "cell_type": "code",
   "execution_count": null,
   "metadata": {},
   "outputs": [],
   "source": [
    "print(sorted(fields.keys()))\n",
    "\n",
    "def show_abs_my(m):\n",
    "    my_abs = np.abs( m[1,0,:,:] )\n",
    "    plt.figure()\n",
    "    plt.imshow(my_abs, vmin=0, vmax=1, cmap=\"afmhot\")\n",
    "    plt.show()\n",
    "\n",
    "show_abs_my(fields[\"m000001\"])"
   ]
  },
  {
   "cell_type": "markdown",
   "metadata": {},
   "source": [
    "## Skyrmion excitation\n",
    "\n",
    "https://journals.aps.org/prb/pdf/10.1103/PhysRevB.90.064410"
   ]
  },
  {
   "cell_type": "code",
   "execution_count": null,
   "metadata": {},
   "outputs": [],
   "source": [
    "diam = 50e-9\n",
    "thickness = 1e-9\n",
    "\n",
    "# NUMERICAL PARAMETERS\n",
    "fmax = 100e9       # maximum frequency (in Hz) of the sinc pulse\n",
    "T    = 2e-9        # simulation time (longer -> better frequency resolution)\n",
    "dt   = 1/(4*fmax)  # the sample time\n",
    "nx   = 64          # number of cells\n",
    "\n",
    "# Note that this is a format string, this means that the statements inside the \n",
    "# curly brackets get evaluated by python. In this way, we insert the values of \n",
    "# the variables above in the script.\n",
    "script=f\"\"\"\n",
    "\n",
    "setgridsize({nx},{nx},1)\n",
    "setcellsize({diam/nx},{diam/nx},{thickness})\n",
    "setgeom(circle({diam}))\n",
    "\n",
    "Msat = 1e6\n",
    "Aex = 15e-12\n",
    "Dind = 3.0e-3\n",
    "Ku1 = 1e6\n",
    "AnisU = vector(0,0,1)\n",
    "alpha = 0.001\n",
    "\n",
    "B_ext = vector(0, 0, 0.0005 * sinc( 2*pi*{fmax}*(t-{T/2})))\n",
    "m = neelskyrmion(-1,1)\n",
    "minimize()\n",
    "\n",
    "\n",
    "run({T/2})\n",
    "autosave(m,{dt})\n",
    "run({T})\n",
    "\"\"\"\n",
    " \n",
    "table, fields = run_mumax3(script,\"vortex\")"
   ]
  },
  {
   "cell_type": "code",
   "execution_count": null,
   "metadata": {},
   "outputs": [],
   "source": [
    "\n",
    "mz = np.stack([fields[key][2,0] for key in sorted(fields.keys())])\n",
    "\n",
    "freq = np.fft.fftfreq(mz.shape[0],dt)\n",
    "mzavg = np.mean(mz,axis=(1,2)) - np.mean(mz,axis=(0,1,2))\n",
    "plt.semilogy(freq,np.abs(np.fft.fft(mzavg)**2))\n",
    "plt.xlim(0,50e9)\n"
   ]
  },
  {
   "cell_type": "code",
   "execution_count": null,
   "metadata": {},
   "outputs": [],
   "source": [
    "mz = np.stack([fields[key][2,0] for key in sorted(fields.keys())])\n",
    "print(mz.shape)\n",
    "\n",
    "freq = np.fft.fftfreq(mz.shape[0],dt)\n",
    "mzfft = np.fft.fft(mz,axis=0)\n",
    "mzfftsum = np.sum(np.abs(mzfft),axis=(1,2))\n",
    "plt.figure()\n",
    "plt.semilogy(mzfftsum)\n",
    "plt.ylim(0,1.6*np.max(mzfftsum[1:]))\n",
    "plt.xlim(0,100)\n",
    "plt.show()\n",
    "\n",
    "plt.figure()\n",
    "plt.imshow(np.abs(mzfft[87]))\n",
    "plt.show()\n",
    "\n",
    "plt.figure()\n",
    "plt.plot(np.mean(np.abs(mzfft[87][32:34]),axis=0))\n",
    "plt.show()"
   ]
  },
  {
   "cell_type": "markdown",
   "metadata": {},
   "source": [
    "## Ferromagnetic spinwave dispersion relation"
   ]
  },
  {
   "cell_type": "markdown",
   "metadata": {},
   "source": [
    "Disregarding dipole-dipole interactions, the dispersion relation $f(k)$ in a ferromagnetic wire is given by\n",
    "\n",
    "$$  f(k) = \\frac{\\gamma}{2\\pi}\\left[ \\frac{2A}{M_s} k^2 + B \\right] $$\n",
    "\n",
    "with $A$ the exchange stiffness, $M_s$ the saturation magnetization, and $B$ an externally applied field."
   ]
  },
  {
   "cell_type": "code",
   "execution_count": null,
   "metadata": {},
   "outputs": [],
   "source": [
    "def freq(k,A,B,Ms):\n",
    "    gamma = 1.76e11\n",
    "    return (gamma/(2*np.pi)) * ( (2*A/Ms)*k**2 + B )\n",
    "\n",
    "# plot the dispersion relation for Permalloy, without an applied field\n",
    "k = np.linspace(-2e8, 2e8, 1000)\n",
    "f = freq(k, A=13e-12, Ms =800e3, B=0.0)\n",
    "plt.plot(k,f)\n",
    "plt.xlabel(\"$k$ (1/m)\")\n",
    "plt.ylabel(\"$f$ (Hz)\")\n",
    "plt.show()"
   ]
  },
  {
   "cell_type": "code",
   "execution_count": null,
   "metadata": {},
   "outputs": [],
   "source": [
    "# NUMERICAL PARAMETERS\n",
    "fmax = 20e9        # maximum frequency (in Hz) of the sinc pulse\n",
    "T    = 1e-8        # simulation time (longer -> better frequency resolution)\n",
    "dt   = 1/(4*fmax)  # the sample time\n",
    "dx   = 4e-9        # cellsize\n",
    "nx   = 1024        # number of cells\n",
    "\n",
    "# MATERIAL/SYSTEM PARAMETERS\n",
    "Bz    = 0.2        # Bias field along the z direction\n",
    "A     = 13e-12     # exchange constant\n",
    "Ms    = 800e3      # saturation magnetization\n",
    "alpha = 0.05       # damping parameter\n",
    "\n",
    "# Note that this is a format string, this means that the statements inside the \n",
    "# curly brackets get evaluated by python. In this way, we insert the values of \n",
    "# the variables above in the script.\n",
    "script=f\"\"\"\n",
    "setgridsize({nx},1,1)\n",
    "setcellsize({dx},{dx},{dx})\n",
    "\n",
    "enabledemag = false\n",
    "Aex = {A}\n",
    "Msat = {Ms}\n",
    "alpha = {alpha}\n",
    "\n",
    "Bz := {Bz}\n",
    "B_ext = vector(0,0,{Bz})\n",
    "defregion(1,rect(2*{dx},inf))\n",
    "B_ext.setregion(1, vector(0.01 * sinc( 2*pi*{fmax}*(t-{T}/2)), 0, {Bz}))\n",
    "\n",
    "m = uniform(0,0,1) \n",
    "autosave(m,{dt})\n",
    "run({T})\n",
    "\"\"\"\n",
    " \n",
    "table, fields = run_mumax3(script,\"spinwaves\")"
   ]
  },
  {
   "cell_type": "code",
   "execution_count": null,
   "metadata": {},
   "outputs": [],
   "source": [
    "mx = np.stack([fields[key][0,0,0] for key in sorted(fields.keys())])\n",
    "\n",
    "mx_fft = np.fft.fft2(mx)\n",
    "mx_fft = np.fft.fftshift(mx_fft)\n",
    "\n",
    "extent = [ -(2*np.pi) / (2*dx), (2*np.pi) / (2*dx), -1 / (2*dt), 1 / (2*dt)] \n",
    "\n",
    "gammaLL = 1.76e11\n",
    "def dispersion(k):\n",
    "    return A*gammaLL*k**2 /(np.pi*Ms) + gammaLL*Bz /(2*np.pi)\n",
    "\n",
    "plt.figure()\n",
    "plt.imshow(np.abs(mx_fft), extent=extent, aspect='auto', origin='lower', cmap=\"inferno\")\n",
    "\n",
    "#k = np.linspace(-2e8,2e8,1000)\n",
    "#plt.plot(k,dispersion(k),'r--',lw=1)\n",
    "#plt.axhline(gammaLL*Bz/(2*np.pi),c='g',ls='--',lw=1)\n",
    "\n",
    "plt.xlim([-2e8,2e8])\n",
    "plt.ylim([0,fmax])\n",
    "plt.ylabel(\"$f$ (Hz)\")\n",
    "plt.xlabel(\"$k$ (1/m)\")\n",
    "\n",
    "plt.show()"
   ]
  },
  {
   "cell_type": "code",
   "execution_count": null,
   "metadata": {},
   "outputs": [],
   "source": []
  },
  {
   "cell_type": "code",
   "execution_count": null,
   "metadata": {},
   "outputs": [],
   "source": []
  }
 ],
 "metadata": {
  "@webio": {
   "lastCommId": null,
   "lastKernelId": null
  },
  "kernelspec": {
   "display_name": "Python 3",
   "language": "python",
   "name": "python3"
  },
  "language_info": {
   "codemirror_mode": {
    "name": "ipython",
    "version": 3
   },
   "file_extension": ".py",
   "mimetype": "text/x-python",
   "name": "python",
   "nbconvert_exporter": "python",
   "pygments_lexer": "ipython3",
   "version": "3.8.3"
  }
 },
 "nbformat": 4,
 "nbformat_minor": 4
}
