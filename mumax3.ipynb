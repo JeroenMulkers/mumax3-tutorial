{
  "nbformat": 4,
  "nbformat_minor": 0,
  "metadata": {
    "colab": {
      "name": "mumax3.ipynb",
      "provenance": [],
      "collapsed_sections": [],
      "toc_visible": true,
      "authorship_tag": "ABX9TyP+e3U27cCZpnzblJWyaN5A",
      "include_colab_link": true
    },
    "kernelspec": {
      "name": "python3",
      "display_name": "Python 3"
    },
    "accelerator": "GPU"
  },
  "cells": [
    {
      "cell_type": "markdown",
      "metadata": {
        "id": "view-in-github",
        "colab_type": "text"
      },
      "source": [
        "<a href=\"https://colab.research.google.com/github/JeroenMulkers/mumax3-tutorial/blob/master/mumax3.ipynb\" target=\"_parent\"><img src=\"https://colab.research.google.com/assets/colab-badge.svg\" alt=\"Open In Colab\"/></a>"
      ]
    },
    {
      "cell_type": "markdown",
      "metadata": {
        "id": "YKnOM0Rd_WpW",
        "colab_type": "text"
      },
      "source": [
        "# **Mumax3 in google colaboratory**"
      ]
    },
    {
      "cell_type": "code",
      "metadata": {
        "id": "DcUZU5vv_TIf",
        "colab_type": "code",
        "colab": {
          "base_uri": "https://localhost:8080/",
          "height": 366
        },
        "outputId": "011a46d5-35c9-4a36-bbc0-fbfbb4110ba8"
      },
      "source": [
        "!wget https://mumax.ugent.be/mumax3-binaries/mumax3.10_linux_cuda10.1.tar.gz\n",
        "!tar -xvf mumax3.10_linux_cuda10.1.tar.gz\n",
        "!rm mumax3.10_linux_cuda10.1.tar.gz\n",
        "!mv mumax3.10_linux_cuda10.1 mumax3.10\n",
        "\n",
        "import os\n",
        "os.environ['PATH'] += \"mumax3.10\""
      ],
      "execution_count": 5,
      "outputs": [
        {
          "output_type": "stream",
          "text": [
            "--2020-08-14 13:01:32--  https://mumax.ugent.be/mumax3-binaries/mumax3.10_linux_cuda10.1.tar.gz\n",
            "Resolving mumax.ugent.be (mumax.ugent.be)... 157.193.40.77\n",
            "Connecting to mumax.ugent.be (mumax.ugent.be)|157.193.40.77|:443... connected.\n",
            "HTTP request sent, awaiting response... 200 OK\n",
            "Length: 150707207 (144M) [application/x-gzip]\n",
            "Saving to: ‘mumax3.10_linux_cuda10.1.tar.gz’\n",
            "\n",
            "mumax3.10_linux_cud 100%[===================>] 143.73M  26.8MB/s    in 6.4s    \n",
            "\n",
            "2020-08-14 13:01:39 (22.6 MB/s) - ‘mumax3.10_linux_cuda10.1.tar.gz’ saved [150707207/150707207]\n",
            "\n",
            "mumax3.10_linux_cuda10.1/\n",
            "mumax3.10_linux_cuda10.1/mumax3-server\n",
            "mumax3.10_linux_cuda10.1/lib/\n",
            "mumax3.10_linux_cuda10.1/lib/libcurand.so.10\n",
            "mumax3.10_linux_cuda10.1/lib/libcufft.so.10\n",
            "mumax3.10_linux_cuda10.1/mumax3\n",
            "mumax3.10_linux_cuda10.1/LICENSE\n",
            "mumax3.10_linux_cuda10.1/mumax3-convert\n"
          ],
          "name": "stdout"
        }
      ]
    },
    {
      "cell_type": "markdown",
      "metadata": {
        "id": "sQhUZQFMBKYY",
        "colab_type": "text"
      },
      "source": [
        "# Running a mumax3 script"
      ]
    },
    {
      "cell_type": "code",
      "metadata": {
        "id": "9g4lmjd7BXGV",
        "colab_type": "code",
        "colab": {
          "base_uri": "https://localhost:8080/",
          "height": 384
        },
        "outputId": "72422b82-8246-4038-c0f5-fce672a07590"
      },
      "source": [
        ""
      ],
      "execution_count": 2,
      "outputs": [
        {
          "output_type": "stream",
          "text": [
            "Fri Aug 14 12:53:30 2020       \n",
            "+-----------------------------------------------------------------------------+\n",
            "| NVIDIA-SMI 450.57       Driver Version: 418.67       CUDA Version: 10.1     |\n",
            "|-------------------------------+----------------------+----------------------+\n",
            "| GPU  Name        Persistence-M| Bus-Id        Disp.A | Volatile Uncorr. ECC |\n",
            "| Fan  Temp  Perf  Pwr:Usage/Cap|         Memory-Usage | GPU-Util  Compute M. |\n",
            "|                               |                      |               MIG M. |\n",
            "|===============================+======================+======================|\n",
            "|   0  Tesla K80           Off  | 00000000:00:04.0 Off |                    0 |\n",
            "| N/A   39C    P8    28W / 149W |      0MiB / 11441MiB |      0%      Default |\n",
            "|                               |                      |                 ERR! |\n",
            "+-------------------------------+----------------------+----------------------+\n",
            "                                                                               \n",
            "+-----------------------------------------------------------------------------+\n",
            "| Processes:                                                                  |\n",
            "|  GPU   GI   CI        PID   Type   Process name                  GPU Memory |\n",
            "|        ID   ID                                                   Usage      |\n",
            "|=============================================================================|\n",
            "|  No running processes found                                                 |\n",
            "+-----------------------------------------------------------------------------+\n"
          ],
          "name": "stdout"
        }
      ]
    }
  ]
}