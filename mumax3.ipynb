{
  "nbformat": 4,
  "nbformat_minor": 0,
  "metadata": {
    "colab": {
      "name": "mumax3.ipynb",
      "provenance": [],
      "collapsed_sections": [],
      "toc_visible": true,
      "authorship_tag": "ABX9TyP2K0nb9LeIFFjje0P7jWIa",
      "include_colab_link": true
    },
    "kernelspec": {
      "name": "python3",
      "display_name": "Python 3"
    },
    "accelerator": "GPU"
  },
  "cells": [
    {
      "cell_type": "markdown",
      "metadata": {
        "id": "view-in-github",
        "colab_type": "text"
      },
      "source": [
        "<a href=\"https://colab.research.google.com/github/JeroenMulkers/mumax3-tutorial/blob/master/mumax3.ipynb\" target=\"_parent\"><img src=\"https://colab.research.google.com/assets/colab-badge.svg\" alt=\"Open In Colab\"/></a>"
      ]
    },
    {
      "cell_type": "markdown",
      "metadata": {
        "id": "YKnOM0Rd_WpW",
        "colab_type": "text"
      },
      "source": [
        "# **Mumax3 in google colaboratory**"
      ]
    },
    {
      "cell_type": "markdown",
      "metadata": {
        "id": "sx20qbQJGQNI",
        "colab_type": "text"
      },
      "source": [
        "## Installing mumax3"
      ]
    },
    {
      "cell_type": "code",
      "metadata": {
        "id": "DcUZU5vv_TIf",
        "colab_type": "code",
        "colab": {}
      },
      "source": [
        "\n",
        "!wget https://mumax.ugent.be/mumax3-binaries/mumax3.10_linux_cuda10.1.tar.gz\n",
        "!tar -xvf mumax3.10_linux_cuda10.1.tar.gz\n",
        "!rm mumax3.10_linux_cuda10.1.tar.gz\n",
        "!rm -rf mumax3.10 && mv mumax3.10_linux_cuda10.1 mumax3.10\n",
        "\n",
        "import os\n",
        "os.environ['PATH'] += \":/content/mumax3.10\"\n",
        "\n",
        "!wget https://raw.githubusercontent.com/JeroenMulkers/mumax3-tutorial/master/standardproblem4.mx3 -O standardproblem4.mx3"
      ],
      "execution_count": null,
      "outputs": []
    },
    {
      "cell_type": "markdown",
      "metadata": {
        "id": "sQhUZQFMBKYY",
        "colab_type": "text"
      },
      "source": [
        "## Running a mumax3 script"
      ]
    },
    {
      "cell_type": "code",
      "metadata": {
        "id": "9g4lmjd7BXGV",
        "colab_type": "code",
        "colab": {}
      },
      "source": [
        "!mumax3 standardproblem4.mx3"
      ],
      "execution_count": null,
      "outputs": []
    }
  ]
}